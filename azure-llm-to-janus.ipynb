{
 "cells": [
  {
   "cell_type": "markdown",
   "id": "b39ad1e3",
   "metadata": {},
   "source": [
    "# Testing Azure"
   ]
  },
  {
   "cell_type": "code",
   "execution_count": 18,
   "id": "1e3dd58b",
   "metadata": {},
   "outputs": [],
   "source": [
    "from typing_extensions import TypedDict\n",
    "from typing import Optional\n",
    "from langchain.chat_models import init_chat_model\n",
    "from langchain_core.messages import HumanMessage\n",
    "from langgraph.graph import StateGraph, START, END\n",
    "from langchain_openai import AzureChatOpenAI"
   ]
  },
  {
   "cell_type": "code",
   "execution_count": 19,
   "id": "a2a5cadd",
   "metadata": {},
   "outputs": [
    {
     "data": {
      "text/plain": [
       "True"
      ]
     },
     "execution_count": 19,
     "metadata": {},
     "output_type": "execute_result"
    }
   ],
   "source": [
    "from dotenv import load_dotenv\n",
    "load_dotenv()"
   ]
  },
  {
   "cell_type": "code",
   "execution_count": 16,
   "id": "3e7cdfa6",
   "metadata": {},
   "outputs": [],
   "source": [
    "class QuestionState(TypedDict):\n",
    "    question: str\n",
    "    response: Optional[str]"
   ]
  },
  {
   "cell_type": "code",
   "execution_count": 21,
   "id": "8bffef4f",
   "metadata": {},
   "outputs": [],
   "source": [
    "llm = init_chat_model(\n",
    "    \"gpt-35-turbo\",\n",
    "    model_provider=\"azure_openai\",\n",
    "    azure_deployment=\"gpt-35-turbo\",\n",
    "    azure_endpoint=\"https://kingalokai.openai.azure.com/\"\n",
    ")"
   ]
  },
  {
   "cell_type": "code",
   "execution_count": 23,
   "id": "a5fd6f84",
   "metadata": {},
   "outputs": [],
   "source": [
    "def ask_llm(state: QuestionState) -> QuestionState:\n",
    "    message = HumanMessage(state[\"question\"])\n",
    "    response = llm.invoke([message])\n",
    "    state['response']= response.content\n",
    "    return state"
   ]
  },
  {
   "cell_type": "code",
   "execution_count": 25,
   "id": "90cd0bdd",
   "metadata": {},
   "outputs": [
    {
     "data": {
      "text/plain": [
       "<langgraph.graph.state.StateGraph at 0x11fc9b450>"
      ]
     },
     "execution_count": 25,
     "metadata": {},
     "output_type": "execute_result"
    }
   ],
   "source": [
    "graph_builder = StateGraph(QuestionState)\n",
    "graph_builder.add_node(\"brain\", ask_llm)\n",
    "graph_builder.add_edge(START,\"brain\")\n",
    "graph_builder.add_edge(\"brain\", END)"
   ]
  },
  {
   "cell_type": "code",
   "execution_count": 26,
   "id": "f0270dff",
   "metadata": {},
   "outputs": [],
   "source": [
    "graph = graph_builder.compile()"
   ]
  },
  {
   "cell_type": "code",
   "execution_count": 27,
   "id": "5a43fd9d",
   "metadata": {},
   "outputs": [
    {
     "data": {
      "image/png": "[encoded data removed]",
      "text/plain": [
       "<langgraph.graph.state.CompiledStateGraph object at 0x11fa14610>"
      ]
     },
     "execution_count": 27,
     "metadata": {},
     "output_type": "execute_result"
    }
   ],
   "source": [
    "graph"
   ]
  },
  {
   "cell_type": "code",
   "execution_count": 28,
   "id": "e5c7977b",
   "metadata": {},
   "outputs": [],
   "source": [
    "messages = [HumanMessage(\"What is the capital of UK ?\")]"
   ]
  },
  {
   "cell_type": "code",
   "execution_count": 29,
   "id": "a8bcbfde",
   "metadata": {},
   "outputs": [],
   "source": [
    "response = llm.invoke(messages)"
   ]
  },
  {
   "cell_type": "code",
   "execution_count": 30,
   "id": "5c6a4d24",
   "metadata": {},
   "outputs": [
    {
     "name": "stdout",
     "output_type": "stream",
     "text": [
      "The capital of the UK is London.\n"
     ]
    }
   ],
   "source": [
    "print(response.content)"
   ]
  },
  {
   "cell_type": "code",
   "execution_count": 14,
   "id": "c48f4689",
   "metadata": {},
   "outputs": [
    {
     "data": {
      "text/plain": [
       "AIMessage(content=\"Inertia is the tendency of an object to resist any change in its motion or rest state. This concept is described by Newton's First Law of Motion, which states that an object will remain at rest or in uniform motion in a straight line unless acted upon by an external force. Essentially, inertia is the resistance of an object to changes in its state of motion.\", additional_kwargs={'refusal': None}, response_metadata={'token_usage': {'completion_tokens': 73, 'prompt_tokens': 14, 'total_tokens': 87, 'completion_tokens_details': None, 'prompt_tokens_details': None}, 'model_name': 'gpt-3.5-turbo-0125', 'system_fingerprint': 'fp_0165350fbb', 'id': 'chatcmpl-BmOyi5kumZgH0VYoqE2kqChY5IupX', 'service_tier': None, 'prompt_filter_results': [{'prompt_index': 0, 'content_filter_results': {'hate': {'filtered': False, 'severity': 'safe'}, 'jailbreak': {'filtered': False, 'detected': False}, 'self_harm': {'filtered': False, 'severity': 'safe'}, 'sexual': {'filtered': False, 'severity': 'safe'}, 'violence': {'filtered': False, 'severity': 'safe'}}}], 'finish_reason': 'stop', 'logprobs': None, 'content_filter_results': {'hate': {'filtered': False, 'severity': 'safe'}, 'protected_material_code': {'filtered': False, 'detected': False}, 'protected_material_text': {'filtered': False, 'detected': False}, 'self_harm': {'filtered': False, 'severity': 'safe'}, 'sexual': {'filtered': False, 'severity': 'safe'}, 'violence': {'filtered': False, 'severity': 'safe'}}}, id='run--ac74f1b5-cf4b-4ff2-9c7c-24afdd40dbee-0', usage_metadata={'input_tokens': 14, 'output_tokens': 73, 'total_tokens': 87, 'input_token_details': {}, 'output_token_details': {}})"
      ]
     },
     "execution_count": 14,
     "metadata": {},
     "output_type": "execute_result"
    }
   ],
   "source": [
    "response"
   ]
  },
  {
   "cell_type": "code",
   "execution_count": null,
   "id": "77a45d3d",
   "metadata": {},
   "outputs": [],
   "source": []
  }
 ],
 "metadata": {
  "kernelspec": {
   "display_name": ".venv",
   "language": "python",
   "name": "python3"
  },
  "language_info": {
   "codemirror_mode": {
    "name": "ipython",
    "version": 3
   },
   "file_extension": ".py",
   "mimetype": "text/x-python",
   "name": "python",
   "nbconvert_exporter": "python",
   "pygments_lexer": "ipython3",
   "version": "3.11.12"
  }
 },
 "nbformat": 4,
 "nbformat_minor": 5
}
